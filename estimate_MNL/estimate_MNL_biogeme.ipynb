{
 "cells": [
  {
   "cell_type": "markdown",
   "id": "1dd0ebe8-2f43-4dcf-92f0-f7834b22d6c2",
   "metadata": {},
   "source": [
    "# MNL推定を行うためのコード\n",
    "準備したデータを用いてBiogemeで交通手段選択モデルを推定します．"
   ]
  },
  {
   "cell_type": "code",
   "execution_count": 6,
   "id": "7ca3e973-b73e-4b5e-bcdb-a469441a247a",
   "metadata": {},
   "outputs": [],
   "source": [
    "import numpy as np\n",
    "import pandas as pd\n",
    "\n",
    "import biogeme.database as db\n",
    "from biogeme.expressions import Variable\n",
    "\n",
    "import biogeme.biogeme as bio\n",
    "from biogeme import models\n",
    "from biogeme.expressions import Beta\n"
   ]
  },
  {
   "cell_type": "markdown",
   "id": "1671b364-21e1-4a1d-8a7c-5126cca7c34d",
   "metadata": {},
   "source": [
    "## データの読み込み&加工\n",
    "準備したデータをpandasで読み込んで以下の加工を行います: \n",
    "1. 着目する交通手段だけに限定したデータにする．\n",
    "2. Biogemeでは，ヘッダー行以外で文字(string)は読み込めないので，文字を含む列を削除する．\n",
    "2. Biogemeでは，NaNも読み込めないので，NaNを含む行は削除する．\n",
    "2. num列に記載されている，変数の組み合わせが同一であるサンプル数の分だけ，行を複製する(非集計データにする)．"
   ]
  },
  {
   "cell_type": "code",
   "execution_count": 8,
   "id": "35864bd7-8b79-4b75-9b18-fe623a3cc135",
   "metadata": {},
   "outputs": [
    {
     "data": {
      "text/html": [
       "<div>\n",
       "<style scoped>\n",
       "    .dataframe tbody tr th:only-of-type {\n",
       "        vertical-align: middle;\n",
       "    }\n",
       "\n",
       "    .dataframe tbody tr th {\n",
       "        vertical-align: top;\n",
       "    }\n",
       "\n",
       "    .dataframe thead th {\n",
       "        text-align: right;\n",
       "    }\n",
       "</style>\n",
       "<table border=\"1\" class=\"dataframe\">\n",
       "  <thead>\n",
       "    <tr style=\"text-align: right;\">\n",
       "      <th></th>\n",
       "      <th>O_code</th>\n",
       "      <th>D_code</th>\n",
       "      <th>purpose_code</th>\n",
       "      <th>mode_code</th>\n",
       "      <th>sex_code</th>\n",
       "      <th>age_code</th>\n",
       "      <th>num</th>\n",
       "      <th>car_time</th>\n",
       "      <th>bus_time</th>\n",
       "      <th>rail_time</th>\n",
       "      <th>car_cost</th>\n",
       "      <th>bus_cost</th>\n",
       "      <th>rail_cost</th>\n",
       "    </tr>\n",
       "  </thead>\n",
       "  <tbody>\n",
       "    <tr>\n",
       "      <th>0</th>\n",
       "      <td>1</td>\n",
       "      <td>48</td>\n",
       "      <td>1</td>\n",
       "      <td>2</td>\n",
       "      <td>1.0</td>\n",
       "      <td>30.0</td>\n",
       "      <td>2.0</td>\n",
       "      <td>304.3508</td>\n",
       "      <td>515.8</td>\n",
       "      <td>397.3</td>\n",
       "      <td>2900.0</td>\n",
       "      <td>5450.0</td>\n",
       "      <td>13310.0</td>\n",
       "    </tr>\n",
       "    <tr>\n",
       "      <th>1</th>\n",
       "      <td>1</td>\n",
       "      <td>48</td>\n",
       "      <td>1</td>\n",
       "      <td>2</td>\n",
       "      <td>1.0</td>\n",
       "      <td>30.0</td>\n",
       "      <td>2.0</td>\n",
       "      <td>304.3508</td>\n",
       "      <td>515.8</td>\n",
       "      <td>397.3</td>\n",
       "      <td>2900.0</td>\n",
       "      <td>5450.0</td>\n",
       "      <td>13310.0</td>\n",
       "    </tr>\n",
       "    <tr>\n",
       "      <th>2</th>\n",
       "      <td>1</td>\n",
       "      <td>48</td>\n",
       "      <td>1</td>\n",
       "      <td>2</td>\n",
       "      <td>1.0</td>\n",
       "      <td>40.0</td>\n",
       "      <td>2.0</td>\n",
       "      <td>304.3508</td>\n",
       "      <td>515.8</td>\n",
       "      <td>397.3</td>\n",
       "      <td>2900.0</td>\n",
       "      <td>5450.0</td>\n",
       "      <td>13310.0</td>\n",
       "    </tr>\n",
       "    <tr>\n",
       "      <th>3</th>\n",
       "      <td>1</td>\n",
       "      <td>48</td>\n",
       "      <td>1</td>\n",
       "      <td>2</td>\n",
       "      <td>1.0</td>\n",
       "      <td>40.0</td>\n",
       "      <td>2.0</td>\n",
       "      <td>304.3508</td>\n",
       "      <td>515.8</td>\n",
       "      <td>397.3</td>\n",
       "      <td>2900.0</td>\n",
       "      <td>5450.0</td>\n",
       "      <td>13310.0</td>\n",
       "    </tr>\n",
       "    <tr>\n",
       "      <th>4</th>\n",
       "      <td>1</td>\n",
       "      <td>48</td>\n",
       "      <td>1</td>\n",
       "      <td>2</td>\n",
       "      <td>2.0</td>\n",
       "      <td>30.0</td>\n",
       "      <td>3.0</td>\n",
       "      <td>304.3508</td>\n",
       "      <td>515.8</td>\n",
       "      <td>397.3</td>\n",
       "      <td>2900.0</td>\n",
       "      <td>5450.0</td>\n",
       "      <td>13310.0</td>\n",
       "    </tr>\n",
       "    <tr>\n",
       "      <th>...</th>\n",
       "      <td>...</td>\n",
       "      <td>...</td>\n",
       "      <td>...</td>\n",
       "      <td>...</td>\n",
       "      <td>...</td>\n",
       "      <td>...</td>\n",
       "      <td>...</td>\n",
       "      <td>...</td>\n",
       "      <td>...</td>\n",
       "      <td>...</td>\n",
       "      <td>...</td>\n",
       "      <td>...</td>\n",
       "      <td>...</td>\n",
       "    </tr>\n",
       "    <tr>\n",
       "      <th>2216679</th>\n",
       "      <td>46</td>\n",
       "      <td>45</td>\n",
       "      <td>0</td>\n",
       "      <td>5</td>\n",
       "      <td>2.0</td>\n",
       "      <td>70.0</td>\n",
       "      <td>108.0</td>\n",
       "      <td>154.2540</td>\n",
       "      <td>276.9</td>\n",
       "      <td>208.4</td>\n",
       "      <td>4110.0</td>\n",
       "      <td>2950.0</td>\n",
       "      <td>4390.0</td>\n",
       "    </tr>\n",
       "    <tr>\n",
       "      <th>2216680</th>\n",
       "      <td>46</td>\n",
       "      <td>45</td>\n",
       "      <td>0</td>\n",
       "      <td>5</td>\n",
       "      <td>2.0</td>\n",
       "      <td>70.0</td>\n",
       "      <td>108.0</td>\n",
       "      <td>154.2540</td>\n",
       "      <td>276.9</td>\n",
       "      <td>208.4</td>\n",
       "      <td>4110.0</td>\n",
       "      <td>2950.0</td>\n",
       "      <td>4390.0</td>\n",
       "    </tr>\n",
       "    <tr>\n",
       "      <th>2216681</th>\n",
       "      <td>46</td>\n",
       "      <td>45</td>\n",
       "      <td>0</td>\n",
       "      <td>5</td>\n",
       "      <td>2.0</td>\n",
       "      <td>70.0</td>\n",
       "      <td>108.0</td>\n",
       "      <td>154.2540</td>\n",
       "      <td>276.9</td>\n",
       "      <td>208.4</td>\n",
       "      <td>4110.0</td>\n",
       "      <td>2950.0</td>\n",
       "      <td>4390.0</td>\n",
       "    </tr>\n",
       "    <tr>\n",
       "      <th>2216682</th>\n",
       "      <td>46</td>\n",
       "      <td>45</td>\n",
       "      <td>0</td>\n",
       "      <td>5</td>\n",
       "      <td>2.0</td>\n",
       "      <td>70.0</td>\n",
       "      <td>108.0</td>\n",
       "      <td>154.2540</td>\n",
       "      <td>276.9</td>\n",
       "      <td>208.4</td>\n",
       "      <td>4110.0</td>\n",
       "      <td>2950.0</td>\n",
       "      <td>4390.0</td>\n",
       "    </tr>\n",
       "    <tr>\n",
       "      <th>2216683</th>\n",
       "      <td>46</td>\n",
       "      <td>45</td>\n",
       "      <td>0</td>\n",
       "      <td>5</td>\n",
       "      <td>2.0</td>\n",
       "      <td>70.0</td>\n",
       "      <td>108.0</td>\n",
       "      <td>154.2540</td>\n",
       "      <td>276.9</td>\n",
       "      <td>208.4</td>\n",
       "      <td>4110.0</td>\n",
       "      <td>2950.0</td>\n",
       "      <td>4390.0</td>\n",
       "    </tr>\n",
       "  </tbody>\n",
       "</table>\n",
       "<p>2216684 rows × 13 columns</p>\n",
       "</div>"
      ],
      "text/plain": [
       "         O_code  D_code  purpose_code  mode_code  sex_code  age_code    num  \\\n",
       "0             1      48             1          2       1.0      30.0    2.0   \n",
       "1             1      48             1          2       1.0      30.0    2.0   \n",
       "2             1      48             1          2       1.0      40.0    2.0   \n",
       "3             1      48             1          2       1.0      40.0    2.0   \n",
       "4             1      48             1          2       2.0      30.0    3.0   \n",
       "...         ...     ...           ...        ...       ...       ...    ...   \n",
       "2216679      46      45             0          5       2.0      70.0  108.0   \n",
       "2216680      46      45             0          5       2.0      70.0  108.0   \n",
       "2216681      46      45             0          5       2.0      70.0  108.0   \n",
       "2216682      46      45             0          5       2.0      70.0  108.0   \n",
       "2216683      46      45             0          5       2.0      70.0  108.0   \n",
       "\n",
       "         car_time  bus_time  rail_time  car_cost  bus_cost  rail_cost  \n",
       "0        304.3508     515.8      397.3    2900.0    5450.0    13310.0  \n",
       "1        304.3508     515.8      397.3    2900.0    5450.0    13310.0  \n",
       "2        304.3508     515.8      397.3    2900.0    5450.0    13310.0  \n",
       "3        304.3508     515.8      397.3    2900.0    5450.0    13310.0  \n",
       "4        304.3508     515.8      397.3    2900.0    5450.0    13310.0  \n",
       "...           ...       ...        ...       ...       ...        ...  \n",
       "2216679  154.2540     276.9      208.4    4110.0    2950.0     4390.0  \n",
       "2216680  154.2540     276.9      208.4    4110.0    2950.0     4390.0  \n",
       "2216681  154.2540     276.9      208.4    4110.0    2950.0     4390.0  \n",
       "2216682  154.2540     276.9      208.4    4110.0    2950.0     4390.0  \n",
       "2216683  154.2540     276.9      208.4    4110.0    2950.0     4390.0  \n",
       "\n",
       "[2216684 rows x 13 columns]"
      ]
     },
     "metadata": {},
     "output_type": "display_data"
    }
   ],
   "source": [
    "df = pd.read_csv(\"../data/data.csv\", encoding='shift_jis')\n",
    "\n",
    "# 着目する交通手段に限定（鉄道・バス・乗用車等）\n",
    "df = df[(df['mode_name'] == \"幹線バス\") | (df['mode_name'] == \"鉄道\") | (df['mode_name'] == \"乗用車等\")].reset_index(drop=True).copy()\n",
    "\n",
    "# 不要な列を削除（文字列列・使用しないLOS変数）\n",
    "df = df.drop(columns=['O_name', 'D_name', 'purpose_name', 'mode_name', 'sex_name', 'ship_time', 'ship_cost', 'air_time', 'air_cost']).copy()\n",
    "\n",
    "# 欠損値を含む行を削除\n",
    "df = df.dropna().reset_index(drop=True).copy()\n",
    "\n",
    "# トリップ数に応じてデータを展開（各行を'num'回繰り返す）\n",
    "df = df.loc[df.index.repeat(df['num'])].reset_index(drop=True).copy() \n",
    "display(df)"
   ]
  },
  {
   "cell_type": "markdown",
   "id": "4de06a7f-8113-4552-96af-2cddba8dff3b",
   "metadata": {},
   "source": [
    "## Biogemeによる推定\n",
    "### データの読み込み"
   ]
  },
  {
   "cell_type": "code",
   "execution_count": 10,
   "id": "9aaa3778-bb0f-4d8c-a457-09b5c2b03935",
   "metadata": {},
   "outputs": [],
   "source": [
    "# Biogeme形式のデータに変換\n",
    "database = db.Database ('junryudou', df)"
   ]
  },
  {
   "cell_type": "markdown",
   "id": "e0a0755e-000a-4569-aa03-de935f3faaef",
   "metadata": {},
   "source": [
    "### 各列の数値の変数への変換\n",
    "推定に用いる変数を定義します．\n",
    "データベース内の各列をモデルの変数とするために，以下のように記述します． "
   ]
  },
  {
   "cell_type": "code",
   "execution_count": 12,
   "id": "a5568c0c-6cf3-49b1-a4a3-1a230d562e96",
   "metadata": {},
   "outputs": [],
   "source": [
    "mode = Variable('mode_code')  # 実際に選択した交通手段のコード\n",
    "car_time = Variable('car_time')  # 自動車の所要時間\n",
    "bus_time = Variable('bus_time')  # 幹線バスの所要時間\n",
    "rail_time = Variable('rail_time')  # 鉄道の所要時間\n",
    "car_cost = Variable('car_cost')  # 自動車の所要費用\n",
    "bus_cost = Variable('bus_cost')  # 幹線バスの所要費用\n",
    "rail_cost = Variable('rail_cost')  # 鉄道の所要費用"
   ]
  },
  {
   "cell_type": "markdown",
   "id": "f925752e-2958-4c9f-aef2-bc05ae01982c",
   "metadata": {},
   "source": [
    "変数のスケーリングを行う場合は，つぎのように，変数を再定義します．"
   ]
  },
  {
   "cell_type": "code",
   "execution_count": 14,
   "id": "698df67f-8c05-4b46-882e-aac66900686c",
   "metadata": {},
   "outputs": [],
   "source": [
    "car_time_scaled = car_time / 60\n",
    "car_cost_scaled = car_cost / 10000\n",
    "rail_time_scaled = rail_time / 60\n",
    "rail_cost_scaled = rail_cost / 10000\n",
    "bus_time_scaled = bus_time / 60\n",
    "bus_cost_scaled = bus_cost / 10000"
   ]
  },
  {
   "cell_type": "markdown",
   "id": "55ac58bd-95ae-4c75-84dd-333503c4f395",
   "metadata": {},
   "source": [
    "## パラメータの定義"
   ]
  },
  {
   "cell_type": "markdown",
   "id": "26127404-c3cb-4300-86c6-9d4b26900208",
   "metadata": {},
   "source": [
    "関数Betaを用いて，パラメータを定義します．\n",
    "関数Betaでは，パラメータ名，初期値，下限値，上限値，推定の要否を指定します．"
   ]
  },
  {
   "cell_type": "code",
   "execution_count": 16,
   "id": "97f9cfac-f5b8-44f1-9be3-2ca7dfaf90c6",
   "metadata": {},
   "outputs": [],
   "source": [
    "# parameter = Beta('name', value, lowerBound, upperBound, status)\n",
    "# status: 0=推定対象, 1=固定値\n",
    "\n",
    "ASC_car = Beta('ASC_car', 0, None, None, 0)    # 乗用車の選択肢固有係数\n",
    "ASC_rail = Beta('ASC_rail', 0, None, None, 0)  # 鉄道の選択肢固有係数\n",
    "ASC_bus = Beta('ASC_bus', 0, None, None, 1)    # バスの選択肢固有定数（基準：固定）\n",
    "B_time = Beta('B_time', 0, None, None, 0)      # 所要時間の選択肢共通係数\n",
    "B_cost = Beta('B_cost', 0, None, None, 0)      # 費用の選択肢共通係数"
   ]
  },
  {
   "cell_type": "markdown",
   "id": "719c9e3e-d762-4ff5-a2ae-acb2e3f492d0",
   "metadata": {},
   "source": [
    "## 効用関数の定義\n",
    "以上で定義した変数とパラメータを使って，効用関数を記述します．\n",
    "今回は次の式のように各選択肢の効用が各選択肢の所要時間と所要費用で表されるものとします．\n",
    "また，パラメータは選択肢共通のものとします．"
   ]
  },
  {
   "cell_type": "code",
   "execution_count": 20,
   "id": "f40ff54f-eb88-49a2-b4b7-cf3407d85f90",
   "metadata": {},
   "outputs": [],
   "source": [
    "V_car = ASC_car + B_time * car_time_scaled + B_cost * car_cost_scaled\n",
    "V_rail = ASC_rail + B_time * rail_time_scaled + B_cost * rail_cost_scaled\n",
    "V_bus = ASC_bus + B_time * bus_time_scaled + B_cost * bus_cost_scaled"
   ]
  },
  {
   "cell_type": "markdown",
   "id": "4aa9839b-9124-42a5-90f6-f96031236c0b",
   "metadata": {},
   "source": [
    "## 選択結果との対応付け・選択可能性の設定\n",
    "各効用関数をデータ上の選択肢番号と対応付けます．\n",
    "今回は，mode列に自動車が5，鉄道が2，幹線バスが4とされているので，各々の効用関数と対応付けます．\n",
    "これには，辞書型の変数`V`を用います．"
   ]
  },
  {
   "cell_type": "code",
   "execution_count": 22,
   "id": "bcbc4633-491c-4de5-a357-17b9a52256f4",
   "metadata": {},
   "outputs": [],
   "source": [
    "# mode_codeと効用関数の対応付け\n",
    "V = {5: V_car, 2: V_rail, 4: V_bus}"
   ]
  },
  {
   "cell_type": "markdown",
   "id": "8fee1789-f534-4522-8e89-75023b20caf4",
   "metadata": {},
   "source": [
    "また，選択可能性についても各選択肢番号に対して個別に設定します．\n",
    "選択可能性とは，例えば，運転免許を持っていない人は，自動車が選択肢になり得ないといった，そもそも選択肢になり得ない状況を表現するためのものです．\n",
    "今回はすべてのサンプルがすべての選択肢を選択できるものとします．"
   ]
  },
  {
   "cell_type": "code",
   "execution_count": 24,
   "id": "666de433-db94-4a4e-ae72-1f0f6baeb73f",
   "metadata": {},
   "outputs": [],
   "source": [
    "# 選択可能性(1: 選択可, 0: 選択不可)\n",
    "av = {5: 1, 2: 1, 4: 1}"
   ]
  },
  {
   "cell_type": "markdown",
   "id": "b5aaafcf-4fba-4b28-ba0c-1fb5979e152c",
   "metadata": {},
   "source": [
    "## モデルの定義と推定\n",
    "推定のためにモデルを定義します．\n",
    "`models.loglogit(V, av, mode)`では，ロジットモデルの選択確率の対数を返します．\n",
    "引数には，上記で定義した効用関数の辞書，選択可能性の辞書，選択結果の変数を渡します．"
   ]
  },
  {
   "cell_type": "code",
   "execution_count": 26,
   "id": "f668b88c-eef3-4d9d-b68e-9432367b7849",
   "metadata": {},
   "outputs": [],
   "source": [
    "# 選択確率の対数を計算\n",
    "logprob = models.loglogit(V, av, mode)"
   ]
  },
  {
   "cell_type": "markdown",
   "id": "ce50aa43-34ca-43db-b00b-2ac453c3f201",
   "metadata": {},
   "source": [
    "続いて，BIOGEMEオブジェクトを準備します．\n",
    "biogeme公式の説明では，この変数にbiogemeという名前を設定するのは避け，たとえば，the_biogemeのような名前とすることが推奨されています．\n",
    "`database`は，「データの読み込み・加工」で定義した推定用のデータを格納した変数です．"
   ]
  },
  {
   "cell_type": "code",
   "execution_count": 28,
   "id": "7b0bf0af-551d-4de1-9701-397ab9af4d7e",
   "metadata": {},
   "outputs": [
    {
     "name": "stderr",
     "output_type": "stream",
     "text": [
      "File biogeme.toml has been created\n"
     ]
    }
   ],
   "source": [
    "# BIOGEMEオブジェクトの準備\n",
    "the_biogeme = bio.BIOGEME(database, logprob)"
   ]
  },
  {
   "cell_type": "markdown",
   "id": "79b08754-1176-4f47-bf60-a69a2198be29",
   "metadata": {},
   "source": [
    "次のようにモデル名を定義します．\n",
    "ここで定義した名前が，推定結果を記載したレポートファイルのファイル名となります．"
   ]
  },
  {
   "cell_type": "code",
   "execution_count": 29,
   "id": "ccd3a6db-5887-47ea-b74c-2dfee7f12ee3",
   "metadata": {},
   "outputs": [],
   "source": [
    "# モデル名の定義\n",
    "the_biogeme.model_name = 'mode_MNL'"
   ]
  },
  {
   "cell_type": "markdown",
   "id": "359b08c3-2c1e-40f9-9574-500993b22a8e",
   "metadata": {},
   "source": [
    "各係数が0である場合の尤度はモデルの適合度評価に用いる重要な指標です．\n",
    "次のような記述をすることで計算することができます．"
   ]
  },
  {
   "cell_type": "code",
   "execution_count": 32,
   "id": "8e79a68c-9e13-4bf9-912a-f4db12aaa70f",
   "metadata": {},
   "outputs": [
    {
     "data": {
      "text/plain": [
       "-2435276.28249398"
      ]
     },
     "execution_count": 32,
     "metadata": {},
     "output_type": "execute_result"
    }
   ],
   "source": [
    "# ヌルモデルの対数尤度を計算\n",
    "the_biogeme.calculate_null_loglikelihood(av)"
   ]
  },
  {
   "cell_type": "markdown",
   "id": "b7604350-149c-4852-a9da-ececcdc9d8cc",
   "metadata": {},
   "source": [
    "次のように記述することで，モデルの推定を実行します．"
   ]
  },
  {
   "cell_type": "code",
   "execution_count": 34,
   "id": "ace57d83-1c49-4a98-9652-e8fa4432645b",
   "metadata": {},
   "outputs": [],
   "source": [
    "# モデル推定の実行\n",
    "MNL_results = the_biogeme.estimate()"
   ]
  },
  {
   "cell_type": "markdown",
   "id": "ed66c765-fbe9-4a33-b5de-4ffc2c8ac456",
   "metadata": {},
   "source": [
    "## 推定結果の出力\n",
    "モデルの推定結果を表示します．\n",
    "こちらのコードで表示される推定結果のほかに，ディレクトリ内に推定結果をまとめたレポートファイルが出力されます．"
   ]
  },
  {
   "cell_type": "code",
   "execution_count": 35,
   "id": "e862e994-95e4-44b5-9119-a54699a96249",
   "metadata": {},
   "outputs": [
    {
     "name": "stdout",
     "output_type": "stream",
     "text": [
      "Results for model mode_MNL\n",
      "Nbr of parameters:\t\t4\n",
      "Sample size:\t\t\t2216684\n",
      "Excluded data:\t\t\t0\n",
      "Null log likelihood:\t\t-2435276\n",
      "Final log likelihood:\t\t-1111394\n",
      "Likelihood ratio test (null):\t\t2647765\n",
      "Rho square (null):\t\t\t0.544\n",
      "Rho bar square (null):\t\t\t0.544\n",
      "Akaike Information Criterion:\t2222795\n",
      "Bayesian Information Criterion:\t2222846\n",
      "\n"
     ]
    }
   ],
   "source": [
    "print(MNL_results.short_summary())"
   ]
  },
  {
   "cell_type": "markdown",
   "id": "bb9ae223-d522-43d6-9beb-266a9a956968",
   "metadata": {},
   "source": [
    "## t値の計算\n",
    "推定結果のレポートファイルで，推定されたパラメータのの$t$値は，ロバスト推定値のみ記載されています．\n",
    "そこで，非ロバストの$t$値も出力されるようにします．\n",
    "まずは，パラメータの推定値とその分散共分散行列を取得します．"
   ]
  },
  {
   "cell_type": "code",
   "execution_count": 36,
   "id": "b8cdd53d-de31-45ad-beb0-00c9195575ee",
   "metadata": {},
   "outputs": [],
   "source": [
    "# ライブラリのインポート\n",
    "from biogeme.results_processing.estimation_results import EstimationResults\n",
    "from biogeme.results_processing.variance_covariance import EstimateVarianceCovariance\n",
    "\n",
    "# MNL_results が RawEstimationResults の場合に EstimationResults でラップ\n",
    "res = MNL_results if isinstance(MNL_results, EstimationResults) else EstimationResults(MNL_results)\n",
    "\n",
    "# 推定値（β）\n",
    "betas: dict[str, float] = res.get_beta_values()\n",
    "\n",
    "# 通常（Rao–Cramer）の分散共分散行列を取得\n",
    "vc = res.get_variance_covariance_matrix(\n",
    "    variance_covariance_type=EstimateVarianceCovariance.RAO_CRAMER # ROBUSTを指定すると，ロバスト値を得る\n",
    ")"
   ]
  },
  {
   "cell_type": "markdown",
   "id": "9df4872e-d872-4563-bc05-b8eb8a67d544",
   "metadata": {},
   "source": [
    "非ロバストの$t$値と$p$値を計算し，表敬式で出力します．"
   ]
  },
  {
   "cell_type": "code",
   "execution_count": 65,
   "id": "6b37be54-09b2-4dae-aabe-a0557e32c3c2",
   "metadata": {},
   "outputs": [
    {
     "data": {
      "text/html": [
       "<div>\n",
       "<style scoped>\n",
       "    .dataframe tbody tr th:only-of-type {\n",
       "        vertical-align: middle;\n",
       "    }\n",
       "\n",
       "    .dataframe tbody tr th {\n",
       "        vertical-align: top;\n",
       "    }\n",
       "\n",
       "    .dataframe thead th {\n",
       "        text-align: right;\n",
       "    }\n",
       "</style>\n",
       "<table border=\"1\" class=\"dataframe\">\n",
       "  <thead>\n",
       "    <tr style=\"text-align: right;\">\n",
       "      <th></th>\n",
       "      <th>Value</th>\n",
       "      <th>Std err. (non-robust)</th>\n",
       "      <th>t-test (non-robust)</th>\n",
       "      <th>p-value (non-robust)</th>\n",
       "    </tr>\n",
       "  </thead>\n",
       "  <tbody>\n",
       "    <tr>\n",
       "      <th>ASC_car</th>\n",
       "      <td>2.465231</td>\n",
       "      <td>0.005218</td>\n",
       "      <td>472.439971</td>\n",
       "      <td>0.0</td>\n",
       "    </tr>\n",
       "    <tr>\n",
       "      <th>B_time</th>\n",
       "      <td>-0.930564</td>\n",
       "      <td>0.001487</td>\n",
       "      <td>-625.897156</td>\n",
       "      <td>0.0</td>\n",
       "    </tr>\n",
       "    <tr>\n",
       "      <th>B_cost</th>\n",
       "      <td>-1.473249</td>\n",
       "      <td>0.012004</td>\n",
       "      <td>-122.729771</td>\n",
       "      <td>0.0</td>\n",
       "    </tr>\n",
       "    <tr>\n",
       "      <th>ASC_rail</th>\n",
       "      <td>0.665556</td>\n",
       "      <td>0.006766</td>\n",
       "      <td>98.373092</td>\n",
       "      <td>0.0</td>\n",
       "    </tr>\n",
       "  </tbody>\n",
       "</table>\n",
       "</div>"
      ],
      "text/plain": [
       "             Value  Std err. (non-robust)  t-test (non-robust)  \\\n",
       "ASC_car   2.465231               0.005218           472.439971   \n",
       "B_time   -0.930564               0.001487          -625.897156   \n",
       "B_cost   -1.473249               0.012004          -122.729771   \n",
       "ASC_rail  0.665556               0.006766            98.373092   \n",
       "\n",
       "          p-value (non-robust)  \n",
       "ASC_car                    0.0  \n",
       "B_time                     0.0  \n",
       "B_cost                     0.0  \n",
       "ASC_rail                   0.0  "
      ]
     },
     "metadata": {},
     "output_type": "display_data"
    }
   ],
   "source": [
    "# 標準誤差と t 値を計算\n",
    "names = list(betas.keys())\n",
    "values = np.array([betas[n] for n in names], dtype=float)\n",
    "se = np.sqrt(np.diag(np.asarray(vc, dtype=float)))\n",
    "t_vals = values / se\n",
    "\n",
    "# p 値\n",
    "from math import erf, sqrt\n",
    "def p_from_t(t):\n",
    "    Phi = 0.5 * (1.0 + erf(abs(t) / sqrt(2.0)))  # 一部erfを用いて標準正規分布の累積分布関数を設定\n",
    "    return 2.0 * (1.0 - Phi)  # 両側検定\n",
    "\n",
    "p_vals = [p_from_t(t) for t in t_vals]\n",
    "\n",
    "# 表として出力\n",
    "names = list(betas.keys())  # dict型の変数betasに対して，keysメソッドを実行\n",
    "df_nonrobust = pd.DataFrame(\n",
    "    {\"Value\": values,\n",
    "     \"Std err. (non-robust)\": se,\n",
    "     \"t-test (non-robust)\": t_vals,\n",
    "     \"p-value (non-robust)\": p_vals},\n",
    "    index=names\n",
    ")\n",
    "\n",
    "display(df_nonrobust)"
   ]
  },
  {
   "cell_type": "markdown",
   "id": "c24463eb-d24f-4e89-acc2-84b1d3aace91",
   "metadata": {},
   "source": [
    "## 的中率の計算\n",
    "各パラメータの推定値を取得し，変数に代入します．"
   ]
  },
  {
   "cell_type": "code",
   "execution_count": 68,
   "id": "220dd549-b082-450b-b54f-77b137c04561",
   "metadata": {},
   "outputs": [
    {
     "data": {
      "text/plain": [
       "{'ASC_car': 2.4652311788350993,\n",
       " 'B_time': -0.9305637878132774,\n",
       " 'B_cost': -1.4732485578910623,\n",
       " 'ASC_rail': 0.6655562347518086}"
      ]
     },
     "metadata": {},
     "output_type": "display_data"
    }
   ],
   "source": [
    "display(betas)"
   ]
  },
  {
   "cell_type": "code",
   "execution_count": 72,
   "id": "96f4521e-cc2a-4858-8d91-52844760fdf4",
   "metadata": {},
   "outputs": [],
   "source": [
    "# パラメータの推定値の取得と変数への代入\n",
    "res_ASC_car = betas['ASC_car']\n",
    "res_ASC_rail = betas['ASC_rail']\n",
    "res_B_time = betas['B_time']\n",
    "res_B_cost = betas['B_cost']"
   ]
  },
  {
   "cell_type": "markdown",
   "id": "b0e77890-381d-4fdd-a987-f3854639c555",
   "metadata": {},
   "source": [
    "パラメータの推定値を用いて，効用を計算します．"
   ]
  },
  {
   "cell_type": "code",
   "execution_count": 74,
   "id": "40cdfd67-93cd-4a4e-8989-cdea6fe6e1b8",
   "metadata": {},
   "outputs": [],
   "source": [
    "# 効用の計算\n",
    "df['pred_V_car'] = res_ASC_car + res_B_time * df['car_time'] / 60 + res_B_cost * df['car_cost'] / 10000\n",
    "df['pred_V_rail'] = res_ASC_rail + res_B_time * df['rail_time'] / 60 + res_B_cost * df['rail_cost'] / 10000\n",
    "df['pred_V_bus'] = res_B_time * df['bus_time'] / 60 + res_B_cost * df['bus_cost'] / 10000"
   ]
  },
  {
   "cell_type": "markdown",
   "id": "2251a22b-682f-4c65-89c8-6366acf9bb18",
   "metadata": {},
   "source": [
    "さらに，ロジットモデルの式を用いて，各選択肢の選択確率を計算します．"
   ]
  },
  {
   "cell_type": "code",
   "execution_count": 77,
   "id": "3aae9beb-a1f3-45ef-b823-0a5b0e7a0544",
   "metadata": {},
   "outputs": [],
   "source": [
    "# 選択確率の分母\n",
    "deno = np.exp(df['pred_V_car']) + np.exp(df['pred_V_rail']) + np.exp(df['pred_V_bus'])\n",
    "\n",
    "# 各選択肢の選択確率\n",
    "df['pred_P_car'] = np.exp(df['pred_V_car']) / deno\n",
    "df['pred_P_rail'] = np.exp(df['pred_V_rail']) / deno\n",
    "df['pred_P_bus'] = np.exp(df['pred_V_bus']) / deno"
   ]
  },
  {
   "cell_type": "markdown",
   "id": "dd5baa99-708c-41d8-af0e-a41492c29019",
   "metadata": {},
   "source": [
    "計算された各選択肢の選択確率のうち，最大であった選択肢が選ばれると予測します．"
   ]
  },
  {
   "cell_type": "code",
   "execution_count": 80,
   "id": "58222d02-7cb1-46a7-b6f6-83e0f7b82df9",
   "metadata": {},
   "outputs": [],
   "source": [
    "# 選択確率が最大であった選択肢に選択肢番号を対応付け\n",
    "cols = ['pred_P_car', 'pred_P_rail', 'pred_P_bus']\n",
    "code_map = {'pred_P_car': 5, 'pred_P_rail': 2, 'pred_P_bus': 4}\n",
    "df['pred_mode'] = df[cols].idxmax(axis=1).map(code_map).astype('Int64')"
   ]
  },
  {
   "cell_type": "markdown",
   "id": "bc8ded26-d62a-4c2a-b527-bf5bbd13be41",
   "metadata": {},
   "source": [
    "実際に選択された選択肢と選択されると予測された選択肢が一致している場合には，的中，そうでない場合は，不的中であるとします．\n",
    "さらにその判定結果をもとに的中率を計算します．"
   ]
  },
  {
   "cell_type": "code",
   "execution_count": 83,
   "id": "94c7c5a7-efcf-4759-8ae3-1d9105037fac",
   "metadata": {},
   "outputs": [
    {
     "name": "stdout",
     "output_type": "stream",
     "text": [
      "True\n",
      "的中率: 82.66884228875203%\n"
     ]
    }
   ],
   "source": [
    "# 的中と不的中の割り当て\n",
    "df['judge'] = np.where(df['pred_mode'].astype('Int64').eq(df['mode_code'].astype('Int64')),\n",
    "                       'correct', 'wrong')\n",
    "                       \n",
    "# 的中となったサンプル数を数えて，的中率を計算\n",
    "print( ((df[\"judge\"] == \"correct\").sum() + (df[\"judge\"] == \"wrong\").sum()) == len(df))\n",
    "acc = (df[\"judge\"] == \"correct\").sum() / ((df[\"judge\"] == \"correct\").sum() + (df[\"judge\"] == \"wrong\").sum()) * 100\n",
    "\n",
    "print(f\"的中率: {acc}%\")"
   ]
  },
  {
   "cell_type": "code",
   "execution_count": null,
   "id": "ff51d73c-f056-4fcd-88a0-0253299339a8",
   "metadata": {},
   "outputs": [],
   "source": []
  }
 ],
 "metadata": {
  "kernelspec": {
   "display_name": "biogeme",
   "language": "python",
   "name": "biogeme"
  },
  "language_info": {
   "codemirror_mode": {
    "name": "ipython",
    "version": 3
   },
   "file_extension": ".py",
   "mimetype": "text/x-python",
   "name": "python",
   "nbconvert_exporter": "python",
   "pygments_lexer": "ipython3",
   "version": "3.11.13"
  }
 },
 "nbformat": 4,
 "nbformat_minor": 5
}
