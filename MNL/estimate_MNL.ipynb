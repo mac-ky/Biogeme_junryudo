{
 "cells": [
  {
   "cell_type": "markdown",
   "id": "1dd0ebe8-2f43-4dcf-92f0-f7834b22d6c2",
   "metadata": {},
   "source": [
    "# MNL推定を行うためのコード\n",
    "準備したデータを用いてBiogemeで交通手段選択モデルを推定します．"
   ]
  },
  {
   "cell_type": "code",
   "execution_count": 114,
   "id": "7ca3e973-b73e-4b5e-bcdb-a469441a247a",
   "metadata": {},
   "outputs": [],
   "source": [
    "# import library\n",
    "import numpy as np\n",
    "import pandas as pd\n",
    "\n",
    "import biogeme.database as db\n",
    "from biogeme.expressions import Variable\n",
    "\n",
    "import biogeme.biogeme as bio\n",
    "from biogeme import models\n",
    "from biogeme.expressions import Beta"
   ]
  },
  {
   "cell_type": "markdown",
   "id": "1671b364-21e1-4a1d-8a7c-5126cca7c34d",
   "metadata": {},
   "source": [
    "## データの読み込み&加工\n",
    "準備したデータを読み込んで以下の加工を行います．\n",
    "1. 着目する交通手段だけに限定したデータにする(今回は鉄道・バス・航空)．\n",
    "2. Biogemeでは，ヘッダー行以外の文字は読み込めないので，当該列を削除する"
   ]
  },
  {
   "cell_type": "code",
   "execution_count": 117,
   "id": "70285b66-64af-40a0-bba7-b5c850ae1c16",
   "metadata": {},
   "outputs": [
    {
     "data": {
      "text/html": [
       "<div>\n",
       "<style scoped>\n",
       "    .dataframe tbody tr th:only-of-type {\n",
       "        vertical-align: middle;\n",
       "    }\n",
       "\n",
       "    .dataframe tbody tr th {\n",
       "        vertical-align: top;\n",
       "    }\n",
       "\n",
       "    .dataframe thead th {\n",
       "        text-align: right;\n",
       "    }\n",
       "</style>\n",
       "<table border=\"1\" class=\"dataframe\">\n",
       "  <thead>\n",
       "    <tr style=\"text-align: right;\">\n",
       "      <th></th>\n",
       "      <th>O_code</th>\n",
       "      <th>O_name</th>\n",
       "      <th>D_code</th>\n",
       "      <th>D_name</th>\n",
       "      <th>purpose_code</th>\n",
       "      <th>purpose_name</th>\n",
       "      <th>mode_code</th>\n",
       "      <th>mode_name</th>\n",
       "      <th>sex_code</th>\n",
       "      <th>sex_name</th>\n",
       "      <th>...</th>\n",
       "      <th>car_time</th>\n",
       "      <th>bus_time</th>\n",
       "      <th>ship_time</th>\n",
       "      <th>rail_time</th>\n",
       "      <th>air_time</th>\n",
       "      <th>car_cost</th>\n",
       "      <th>bus_cost</th>\n",
       "      <th>ship_cost</th>\n",
       "      <th>rail_cost</th>\n",
       "      <th>air_cost</th>\n",
       "    </tr>\n",
       "  </thead>\n",
       "  <tbody>\n",
       "    <tr>\n",
       "      <th>0</th>\n",
       "      <td>1</td>\n",
       "      <td>道北</td>\n",
       "      <td>48</td>\n",
       "      <td>道東</td>\n",
       "      <td>1</td>\n",
       "      <td>仕事</td>\n",
       "      <td>1</td>\n",
       "      <td>航空</td>\n",
       "      <td>1.0</td>\n",
       "      <td>Male</td>\n",
       "      <td>...</td>\n",
       "      <td>304.3508</td>\n",
       "      <td>515.8</td>\n",
       "      <td>NaN</td>\n",
       "      <td>397.3</td>\n",
       "      <td>306.3</td>\n",
       "      <td>2900.0</td>\n",
       "      <td>5450.0</td>\n",
       "      <td>NaN</td>\n",
       "      <td>13310.0</td>\n",
       "      <td>28740.0</td>\n",
       "    </tr>\n",
       "    <tr>\n",
       "      <th>1</th>\n",
       "      <td>1</td>\n",
       "      <td>道北</td>\n",
       "      <td>48</td>\n",
       "      <td>道東</td>\n",
       "      <td>1</td>\n",
       "      <td>仕事</td>\n",
       "      <td>1</td>\n",
       "      <td>航空</td>\n",
       "      <td>1.0</td>\n",
       "      <td>Male</td>\n",
       "      <td>...</td>\n",
       "      <td>304.3508</td>\n",
       "      <td>515.8</td>\n",
       "      <td>NaN</td>\n",
       "      <td>397.3</td>\n",
       "      <td>306.3</td>\n",
       "      <td>2900.0</td>\n",
       "      <td>5450.0</td>\n",
       "      <td>NaN</td>\n",
       "      <td>13310.0</td>\n",
       "      <td>28740.0</td>\n",
       "    </tr>\n",
       "    <tr>\n",
       "      <th>2</th>\n",
       "      <td>1</td>\n",
       "      <td>道北</td>\n",
       "      <td>48</td>\n",
       "      <td>道東</td>\n",
       "      <td>1</td>\n",
       "      <td>仕事</td>\n",
       "      <td>1</td>\n",
       "      <td>航空</td>\n",
       "      <td>1.0</td>\n",
       "      <td>Male</td>\n",
       "      <td>...</td>\n",
       "      <td>304.3508</td>\n",
       "      <td>515.8</td>\n",
       "      <td>NaN</td>\n",
       "      <td>397.3</td>\n",
       "      <td>306.3</td>\n",
       "      <td>2900.0</td>\n",
       "      <td>5450.0</td>\n",
       "      <td>NaN</td>\n",
       "      <td>13310.0</td>\n",
       "      <td>28740.0</td>\n",
       "    </tr>\n",
       "    <tr>\n",
       "      <th>3</th>\n",
       "      <td>1</td>\n",
       "      <td>道北</td>\n",
       "      <td>48</td>\n",
       "      <td>道東</td>\n",
       "      <td>1</td>\n",
       "      <td>仕事</td>\n",
       "      <td>2</td>\n",
       "      <td>鉄道</td>\n",
       "      <td>1.0</td>\n",
       "      <td>Male</td>\n",
       "      <td>...</td>\n",
       "      <td>304.3508</td>\n",
       "      <td>515.8</td>\n",
       "      <td>NaN</td>\n",
       "      <td>397.3</td>\n",
       "      <td>306.3</td>\n",
       "      <td>2900.0</td>\n",
       "      <td>5450.0</td>\n",
       "      <td>NaN</td>\n",
       "      <td>13310.0</td>\n",
       "      <td>28740.0</td>\n",
       "    </tr>\n",
       "    <tr>\n",
       "      <th>4</th>\n",
       "      <td>1</td>\n",
       "      <td>道北</td>\n",
       "      <td>48</td>\n",
       "      <td>道東</td>\n",
       "      <td>1</td>\n",
       "      <td>仕事</td>\n",
       "      <td>2</td>\n",
       "      <td>鉄道</td>\n",
       "      <td>1.0</td>\n",
       "      <td>Male</td>\n",
       "      <td>...</td>\n",
       "      <td>304.3508</td>\n",
       "      <td>515.8</td>\n",
       "      <td>NaN</td>\n",
       "      <td>397.3</td>\n",
       "      <td>306.3</td>\n",
       "      <td>2900.0</td>\n",
       "      <td>5450.0</td>\n",
       "      <td>NaN</td>\n",
       "      <td>13310.0</td>\n",
       "      <td>28740.0</td>\n",
       "    </tr>\n",
       "  </tbody>\n",
       "</table>\n",
       "<p>5 rows × 22 columns</p>\n",
       "</div>"
      ],
      "text/plain": [
       "   O_code O_name  D_code D_name  purpose_code purpose_name  mode_code  \\\n",
       "0       1     道北      48     道東             1           仕事          1   \n",
       "1       1     道北      48     道東             1           仕事          1   \n",
       "2       1     道北      48     道東             1           仕事          1   \n",
       "3       1     道北      48     道東             1           仕事          2   \n",
       "4       1     道北      48     道東             1           仕事          2   \n",
       "\n",
       "  mode_name  sex_code sex_name  ...  car_time  bus_time  ship_time  rail_time  \\\n",
       "0        航空       1.0     Male  ...  304.3508     515.8        NaN      397.3   \n",
       "1        航空       1.0     Male  ...  304.3508     515.8        NaN      397.3   \n",
       "2        航空       1.0     Male  ...  304.3508     515.8        NaN      397.3   \n",
       "3        鉄道       1.0     Male  ...  304.3508     515.8        NaN      397.3   \n",
       "4        鉄道       1.0     Male  ...  304.3508     515.8        NaN      397.3   \n",
       "\n",
       "   air_time  car_cost  bus_cost  ship_cost  rail_cost  air_cost  \n",
       "0     306.3    2900.0    5450.0        NaN    13310.0   28740.0  \n",
       "1     306.3    2900.0    5450.0        NaN    13310.0   28740.0  \n",
       "2     306.3    2900.0    5450.0        NaN    13310.0   28740.0  \n",
       "3     306.3    2900.0    5450.0        NaN    13310.0   28740.0  \n",
       "4     306.3    2900.0    5450.0        NaN    13310.0   28740.0  \n",
       "\n",
       "[5 rows x 22 columns]"
      ]
     },
     "execution_count": 117,
     "metadata": {},
     "output_type": "execute_result"
    }
   ],
   "source": [
    "df = pd.read_csv(\"../data/data.csv\", encoding ='shift_jis')\n",
    "df.head()"
   ]
  },
  {
   "cell_type": "code",
   "execution_count": 118,
   "id": "67ec60eb-03c3-47c3-b890-ec2241d1d65f",
   "metadata": {},
   "outputs": [
    {
     "data": {
      "text/html": [
       "<div>\n",
       "<style scoped>\n",
       "    .dataframe tbody tr th:only-of-type {\n",
       "        vertical-align: middle;\n",
       "    }\n",
       "\n",
       "    .dataframe tbody tr th {\n",
       "        vertical-align: top;\n",
       "    }\n",
       "\n",
       "    .dataframe thead th {\n",
       "        text-align: right;\n",
       "    }\n",
       "</style>\n",
       "<table border=\"1\" class=\"dataframe\">\n",
       "  <thead>\n",
       "    <tr style=\"text-align: right;\">\n",
       "      <th></th>\n",
       "      <th>O_code</th>\n",
       "      <th>D_code</th>\n",
       "      <th>purpose_code</th>\n",
       "      <th>mode_code</th>\n",
       "      <th>sex_code</th>\n",
       "      <th>age_code</th>\n",
       "      <th>num</th>\n",
       "      <th>car_time</th>\n",
       "      <th>bus_time</th>\n",
       "      <th>rail_time</th>\n",
       "      <th>car_cost</th>\n",
       "      <th>bus_cost</th>\n",
       "      <th>rail_cost</th>\n",
       "    </tr>\n",
       "  </thead>\n",
       "  <tbody>\n",
       "    <tr>\n",
       "      <th>0</th>\n",
       "      <td>1</td>\n",
       "      <td>48</td>\n",
       "      <td>1</td>\n",
       "      <td>2</td>\n",
       "      <td>1.0</td>\n",
       "      <td>30.0</td>\n",
       "      <td>2.0</td>\n",
       "      <td>304.3508</td>\n",
       "      <td>515.8</td>\n",
       "      <td>397.3</td>\n",
       "      <td>2900.0</td>\n",
       "      <td>5450.0</td>\n",
       "      <td>13310.0</td>\n",
       "    </tr>\n",
       "    <tr>\n",
       "      <th>1</th>\n",
       "      <td>1</td>\n",
       "      <td>48</td>\n",
       "      <td>1</td>\n",
       "      <td>2</td>\n",
       "      <td>1.0</td>\n",
       "      <td>40.0</td>\n",
       "      <td>2.0</td>\n",
       "      <td>304.3508</td>\n",
       "      <td>515.8</td>\n",
       "      <td>397.3</td>\n",
       "      <td>2900.0</td>\n",
       "      <td>5450.0</td>\n",
       "      <td>13310.0</td>\n",
       "    </tr>\n",
       "    <tr>\n",
       "      <th>2</th>\n",
       "      <td>1</td>\n",
       "      <td>48</td>\n",
       "      <td>1</td>\n",
       "      <td>2</td>\n",
       "      <td>2.0</td>\n",
       "      <td>30.0</td>\n",
       "      <td>3.0</td>\n",
       "      <td>304.3508</td>\n",
       "      <td>515.8</td>\n",
       "      <td>397.3</td>\n",
       "      <td>2900.0</td>\n",
       "      <td>5450.0</td>\n",
       "      <td>13310.0</td>\n",
       "    </tr>\n",
       "    <tr>\n",
       "      <th>3</th>\n",
       "      <td>1</td>\n",
       "      <td>48</td>\n",
       "      <td>3</td>\n",
       "      <td>2</td>\n",
       "      <td>2.0</td>\n",
       "      <td>40.0</td>\n",
       "      <td>1.0</td>\n",
       "      <td>304.3508</td>\n",
       "      <td>515.8</td>\n",
       "      <td>397.3</td>\n",
       "      <td>2900.0</td>\n",
       "      <td>5450.0</td>\n",
       "      <td>13310.0</td>\n",
       "    </tr>\n",
       "    <tr>\n",
       "      <th>4</th>\n",
       "      <td>1</td>\n",
       "      <td>48</td>\n",
       "      <td>1</td>\n",
       "      <td>4</td>\n",
       "      <td>1.0</td>\n",
       "      <td>20.0</td>\n",
       "      <td>1.0</td>\n",
       "      <td>304.3508</td>\n",
       "      <td>515.8</td>\n",
       "      <td>397.3</td>\n",
       "      <td>2900.0</td>\n",
       "      <td>5450.0</td>\n",
       "      <td>13310.0</td>\n",
       "    </tr>\n",
       "  </tbody>\n",
       "</table>\n",
       "</div>"
      ],
      "text/plain": [
       "   O_code  D_code  purpose_code  mode_code  sex_code  age_code  num  car_time  \\\n",
       "0       1      48             1          2       1.0      30.0  2.0  304.3508   \n",
       "1       1      48             1          2       1.0      40.0  2.0  304.3508   \n",
       "2       1      48             1          2       2.0      30.0  3.0  304.3508   \n",
       "3       1      48             3          2       2.0      40.0  1.0  304.3508   \n",
       "4       1      48             1          4       1.0      20.0  1.0  304.3508   \n",
       "\n",
       "   bus_time  rail_time  car_cost  bus_cost  rail_cost  \n",
       "0     515.8      397.3    2900.0    5450.0    13310.0  \n",
       "1     515.8      397.3    2900.0    5450.0    13310.0  \n",
       "2     515.8      397.3    2900.0    5450.0    13310.0  \n",
       "3     515.8      397.3    2900.0    5450.0    13310.0  \n",
       "4     515.8      397.3    2900.0    5450.0    13310.0  "
      ]
     },
     "execution_count": 118,
     "metadata": {},
     "output_type": "execute_result"
    }
   ],
   "source": [
    "df = df[(df['mode_name'] == \"幹線バス\") | (df['mode_name'] == \"鉄道\") | (df['mode_name'] == \"乗用車等\")].reset_index(drop=True).copy()\n",
    "df = df.drop(columns=['O_name', 'D_name', 'purpose_name', 'mode_name', 'sex_name', 'ship_time', 'ship_cost', 'air_time', 'air_cost']).copy()\n",
    "\n",
    "df.head()"
   ]
  },
  {
   "cell_type": "code",
   "execution_count": 121,
   "id": "66900fd7-4ae9-492d-ba82-5df37fc95ecc",
   "metadata": {},
   "outputs": [
    {
     "data": {
      "text/html": [
       "<div>\n",
       "<style scoped>\n",
       "    .dataframe tbody tr th:only-of-type {\n",
       "        vertical-align: middle;\n",
       "    }\n",
       "\n",
       "    .dataframe tbody tr th {\n",
       "        vertical-align: top;\n",
       "    }\n",
       "\n",
       "    .dataframe thead th {\n",
       "        text-align: right;\n",
       "    }\n",
       "</style>\n",
       "<table border=\"1\" class=\"dataframe\">\n",
       "  <thead>\n",
       "    <tr style=\"text-align: right;\">\n",
       "      <th></th>\n",
       "      <th>O_code</th>\n",
       "      <th>D_code</th>\n",
       "      <th>purpose_code</th>\n",
       "      <th>mode_code</th>\n",
       "      <th>sex_code</th>\n",
       "      <th>age_code</th>\n",
       "      <th>num</th>\n",
       "      <th>car_time</th>\n",
       "      <th>bus_time</th>\n",
       "      <th>rail_time</th>\n",
       "      <th>car_cost</th>\n",
       "      <th>bus_cost</th>\n",
       "      <th>rail_cost</th>\n",
       "    </tr>\n",
       "  </thead>\n",
       "  <tbody>\n",
       "    <tr>\n",
       "      <th>0</th>\n",
       "      <td>1</td>\n",
       "      <td>48</td>\n",
       "      <td>1</td>\n",
       "      <td>2</td>\n",
       "      <td>1.0</td>\n",
       "      <td>30.0</td>\n",
       "      <td>2.0</td>\n",
       "      <td>304.3508</td>\n",
       "      <td>515.8</td>\n",
       "      <td>397.3</td>\n",
       "      <td>2900.0</td>\n",
       "      <td>5450.0</td>\n",
       "      <td>13310.0</td>\n",
       "    </tr>\n",
       "    <tr>\n",
       "      <th>1</th>\n",
       "      <td>1</td>\n",
       "      <td>48</td>\n",
       "      <td>1</td>\n",
       "      <td>2</td>\n",
       "      <td>1.0</td>\n",
       "      <td>40.0</td>\n",
       "      <td>2.0</td>\n",
       "      <td>304.3508</td>\n",
       "      <td>515.8</td>\n",
       "      <td>397.3</td>\n",
       "      <td>2900.0</td>\n",
       "      <td>5450.0</td>\n",
       "      <td>13310.0</td>\n",
       "    </tr>\n",
       "    <tr>\n",
       "      <th>2</th>\n",
       "      <td>1</td>\n",
       "      <td>48</td>\n",
       "      <td>1</td>\n",
       "      <td>2</td>\n",
       "      <td>2.0</td>\n",
       "      <td>30.0</td>\n",
       "      <td>3.0</td>\n",
       "      <td>304.3508</td>\n",
       "      <td>515.8</td>\n",
       "      <td>397.3</td>\n",
       "      <td>2900.0</td>\n",
       "      <td>5450.0</td>\n",
       "      <td>13310.0</td>\n",
       "    </tr>\n",
       "    <tr>\n",
       "      <th>3</th>\n",
       "      <td>1</td>\n",
       "      <td>48</td>\n",
       "      <td>3</td>\n",
       "      <td>2</td>\n",
       "      <td>2.0</td>\n",
       "      <td>40.0</td>\n",
       "      <td>1.0</td>\n",
       "      <td>304.3508</td>\n",
       "      <td>515.8</td>\n",
       "      <td>397.3</td>\n",
       "      <td>2900.0</td>\n",
       "      <td>5450.0</td>\n",
       "      <td>13310.0</td>\n",
       "    </tr>\n",
       "    <tr>\n",
       "      <th>4</th>\n",
       "      <td>1</td>\n",
       "      <td>48</td>\n",
       "      <td>1</td>\n",
       "      <td>4</td>\n",
       "      <td>1.0</td>\n",
       "      <td>20.0</td>\n",
       "      <td>1.0</td>\n",
       "      <td>304.3508</td>\n",
       "      <td>515.8</td>\n",
       "      <td>397.3</td>\n",
       "      <td>2900.0</td>\n",
       "      <td>5450.0</td>\n",
       "      <td>13310.0</td>\n",
       "    </tr>\n",
       "  </tbody>\n",
       "</table>\n",
       "</div>"
      ],
      "text/plain": [
       "   O_code  D_code  purpose_code  mode_code  sex_code  age_code  num  car_time  \\\n",
       "0       1      48             1          2       1.0      30.0  2.0  304.3508   \n",
       "1       1      48             1          2       1.0      40.0  2.0  304.3508   \n",
       "2       1      48             1          2       2.0      30.0  3.0  304.3508   \n",
       "3       1      48             3          2       2.0      40.0  1.0  304.3508   \n",
       "4       1      48             1          4       1.0      20.0  1.0  304.3508   \n",
       "\n",
       "   bus_time  rail_time  car_cost  bus_cost  rail_cost  \n",
       "0     515.8      397.3    2900.0    5450.0    13310.0  \n",
       "1     515.8      397.3    2900.0    5450.0    13310.0  \n",
       "2     515.8      397.3    2900.0    5450.0    13310.0  \n",
       "3     515.8      397.3    2900.0    5450.0    13310.0  \n",
       "4     515.8      397.3    2900.0    5450.0    13310.0  "
      ]
     },
     "execution_count": 121,
     "metadata": {},
     "output_type": "execute_result"
    }
   ],
   "source": [
    "df = df.dropna().reset_index(drop=True).copy()\n",
    "df.head()"
   ]
  },
  {
   "cell_type": "code",
   "execution_count": 123,
   "id": "c3ff22e1-330b-40fe-85a4-af77b8806bc3",
   "metadata": {},
   "outputs": [
    {
     "data": {
      "text/html": [
       "<div>\n",
       "<style scoped>\n",
       "    .dataframe tbody tr th:only-of-type {\n",
       "        vertical-align: middle;\n",
       "    }\n",
       "\n",
       "    .dataframe tbody tr th {\n",
       "        vertical-align: top;\n",
       "    }\n",
       "\n",
       "    .dataframe thead th {\n",
       "        text-align: right;\n",
       "    }\n",
       "</style>\n",
       "<table border=\"1\" class=\"dataframe\">\n",
       "  <thead>\n",
       "    <tr style=\"text-align: right;\">\n",
       "      <th></th>\n",
       "      <th>O_code</th>\n",
       "      <th>D_code</th>\n",
       "      <th>purpose_code</th>\n",
       "      <th>mode_code</th>\n",
       "      <th>sex_code</th>\n",
       "      <th>age_code</th>\n",
       "      <th>num</th>\n",
       "      <th>car_time</th>\n",
       "      <th>bus_time</th>\n",
       "      <th>rail_time</th>\n",
       "      <th>car_cost</th>\n",
       "      <th>bus_cost</th>\n",
       "      <th>rail_cost</th>\n",
       "    </tr>\n",
       "  </thead>\n",
       "  <tbody>\n",
       "    <tr>\n",
       "      <th>0</th>\n",
       "      <td>1</td>\n",
       "      <td>48</td>\n",
       "      <td>1</td>\n",
       "      <td>2</td>\n",
       "      <td>1.0</td>\n",
       "      <td>30.0</td>\n",
       "      <td>2.0</td>\n",
       "      <td>304.3508</td>\n",
       "      <td>515.8</td>\n",
       "      <td>397.3</td>\n",
       "      <td>2900.0</td>\n",
       "      <td>5450.0</td>\n",
       "      <td>13310.0</td>\n",
       "    </tr>\n",
       "    <tr>\n",
       "      <th>1</th>\n",
       "      <td>1</td>\n",
       "      <td>48</td>\n",
       "      <td>1</td>\n",
       "      <td>2</td>\n",
       "      <td>1.0</td>\n",
       "      <td>30.0</td>\n",
       "      <td>2.0</td>\n",
       "      <td>304.3508</td>\n",
       "      <td>515.8</td>\n",
       "      <td>397.3</td>\n",
       "      <td>2900.0</td>\n",
       "      <td>5450.0</td>\n",
       "      <td>13310.0</td>\n",
       "    </tr>\n",
       "    <tr>\n",
       "      <th>2</th>\n",
       "      <td>1</td>\n",
       "      <td>48</td>\n",
       "      <td>1</td>\n",
       "      <td>2</td>\n",
       "      <td>1.0</td>\n",
       "      <td>40.0</td>\n",
       "      <td>2.0</td>\n",
       "      <td>304.3508</td>\n",
       "      <td>515.8</td>\n",
       "      <td>397.3</td>\n",
       "      <td>2900.0</td>\n",
       "      <td>5450.0</td>\n",
       "      <td>13310.0</td>\n",
       "    </tr>\n",
       "    <tr>\n",
       "      <th>3</th>\n",
       "      <td>1</td>\n",
       "      <td>48</td>\n",
       "      <td>1</td>\n",
       "      <td>2</td>\n",
       "      <td>1.0</td>\n",
       "      <td>40.0</td>\n",
       "      <td>2.0</td>\n",
       "      <td>304.3508</td>\n",
       "      <td>515.8</td>\n",
       "      <td>397.3</td>\n",
       "      <td>2900.0</td>\n",
       "      <td>5450.0</td>\n",
       "      <td>13310.0</td>\n",
       "    </tr>\n",
       "    <tr>\n",
       "      <th>4</th>\n",
       "      <td>1</td>\n",
       "      <td>48</td>\n",
       "      <td>1</td>\n",
       "      <td>2</td>\n",
       "      <td>2.0</td>\n",
       "      <td>30.0</td>\n",
       "      <td>3.0</td>\n",
       "      <td>304.3508</td>\n",
       "      <td>515.8</td>\n",
       "      <td>397.3</td>\n",
       "      <td>2900.0</td>\n",
       "      <td>5450.0</td>\n",
       "      <td>13310.0</td>\n",
       "    </tr>\n",
       "  </tbody>\n",
       "</table>\n",
       "</div>"
      ],
      "text/plain": [
       "   O_code  D_code  purpose_code  mode_code  sex_code  age_code  num  car_time  \\\n",
       "0       1      48             1          2       1.0      30.0  2.0  304.3508   \n",
       "1       1      48             1          2       1.0      30.0  2.0  304.3508   \n",
       "2       1      48             1          2       1.0      40.0  2.0  304.3508   \n",
       "3       1      48             1          2       1.0      40.0  2.0  304.3508   \n",
       "4       1      48             1          2       2.0      30.0  3.0  304.3508   \n",
       "\n",
       "   bus_time  rail_time  car_cost  bus_cost  rail_cost  \n",
       "0     515.8      397.3    2900.0    5450.0    13310.0  \n",
       "1     515.8      397.3    2900.0    5450.0    13310.0  \n",
       "2     515.8      397.3    2900.0    5450.0    13310.0  \n",
       "3     515.8      397.3    2900.0    5450.0    13310.0  \n",
       "4     515.8      397.3    2900.0    5450.0    13310.0  "
      ]
     },
     "execution_count": 123,
     "metadata": {},
     "output_type": "execute_result"
    }
   ],
   "source": [
    "df = df4.loc[df4.index.repeat(df4['num'])].reset_index(drop=True).copy() \n",
    "df.head()"
   ]
  },
  {
   "cell_type": "markdown",
   "id": "4de06a7f-8113-4552-96af-2cddba8dff3b",
   "metadata": {},
   "source": [
    "## Biogemeによる推定\n",
    "### データの読み込み"
   ]
  },
  {
   "cell_type": "code",
   "execution_count": 126,
   "id": "9aaa3778-bb0f-4d8c-a457-09b5c2b03935",
   "metadata": {},
   "outputs": [],
   "source": [
    "database = db.Database ('junryudou', df)"
   ]
  },
  {
   "cell_type": "markdown",
   "id": "e0a0755e-000a-4569-aa03-de935f3faaef",
   "metadata": {},
   "source": [
    "### 各列の数値の変数への変換"
   ]
  },
  {
   "cell_type": "code",
   "execution_count": 11,
   "id": "a5568c0c-6cf3-49b1-a4a3-1a230d562e96",
   "metadata": {},
   "outputs": [],
   "source": [
    "origin = Variable ('O_code')\n",
    "destination = Variable ('D_code')\n",
    "purpose = Variable ('purpose_code')\n",
    "mode = Variable ('mode_code')\n",
    "sex = Variable ('sex_code')\n",
    "age = Variable ('age_code')\n",
    "car_time = Variable ('car_time')\n",
    "bus_time = Variable ('bus_time')\n",
    "rail_time = Variable ('rail_time')\n",
    "car_cost = Variable ('car_cost')\n",
    "bus_cost = Variable ('bus_cost')\n",
    "rail_cost = Variable ('rail_cost')"
   ]
  },
  {
   "cell_type": "code",
   "execution_count": 12,
   "id": "698df67f-8c05-4b46-882e-aac66900686c",
   "metadata": {},
   "outputs": [],
   "source": [
    "car_time_scaled = car_time / 10\n",
    "car_cost_scaled = car_cost / 100\n",
    "rail_time_scaled = rail_time / 10\n",
    "rail_cost_scaled = rail_cost / 100\n",
    "bus_time_scaled = bus_time / 10\n",
    "bus_cost_scaled = bus_cost / 100"
   ]
  },
  {
   "cell_type": "markdown",
   "id": "55ac58bd-95ae-4c75-84dd-333503c4f395",
   "metadata": {},
   "source": [
    "## パラメータの定義"
   ]
  },
  {
   "cell_type": "code",
   "execution_count": 14,
   "id": "97f9cfac-f5b8-44f1-9be3-2ca7dfaf90c6",
   "metadata": {},
   "outputs": [],
   "source": [
    "# parameter = Beta('name', value, lowerBound, upperBound, status)\n",
    "\n",
    "ASC_car = Beta('ASC_car', 0, None, None, 0)\n",
    "ASC_rail = Beta('ASC_rail', 0, None, None, 0)\n",
    "ASC_bus = Beta ('ASC_bus', 0, None, None, 1)  # 推定せずに固定する\n",
    "B_time = Beta ('B_time', 0, None, None, 0)\n",
    "B_cost = Beta ('B_cost', 0, None, None, 0)"
   ]
  },
  {
   "cell_type": "markdown",
   "id": "719c9e3e-d762-4ff5-a2ae-acb2e3f492d0",
   "metadata": {},
   "source": [
    "## 効用関数の定義"
   ]
  },
  {
   "cell_type": "code",
   "execution_count": 16,
   "id": "f40ff54f-eb88-49a2-b4b7-cf3407d85f90",
   "metadata": {},
   "outputs": [],
   "source": [
    "V_car = ASC_car + B_time * car_time_scaled + B_cost * car_cost_scaled\n",
    "V_rail = ASC_rail + B_time * rail_time_scaled + B_cost * rail_cost_scaled\n",
    "V_bus = ASC_bus + B_time * bus_time_scaled + B_cost * bus_cost_scaled"
   ]
  },
  {
   "cell_type": "markdown",
   "id": "4aa9839b-9124-42a5-90f6-f96031236c0b",
   "metadata": {},
   "source": [
    "## 選択結果との対応付け"
   ]
  },
  {
   "cell_type": "code",
   "execution_count": 18,
   "id": "bcbc4633-491c-4de5-a357-17b9a52256f4",
   "metadata": {},
   "outputs": [],
   "source": [
    "# 5: 自家用車，2: 鉄道，4: 幹線バス\n",
    "V = {5: V_car, 2: V_rail, 4: V_bus }"
   ]
  },
  {
   "cell_type": "markdown",
   "id": "8fee1789-f534-4522-8e89-75023b20caf4",
   "metadata": {},
   "source": [
    "## 選択可能性の設定"
   ]
  },
  {
   "cell_type": "code",
   "execution_count": 20,
   "id": "666de433-db94-4a4e-ae72-1f0f6baeb73f",
   "metadata": {},
   "outputs": [],
   "source": [
    "av = {5: 1, 2: 1, 4: 1}"
   ]
  },
  {
   "cell_type": "markdown",
   "id": "b5aaafcf-4fba-4b28-ba0c-1fb5979e152c",
   "metadata": {},
   "source": [
    "## モデルの定義と推定"
   ]
  },
  {
   "cell_type": "code",
   "execution_count": 22,
   "id": "1d7ebdc9-731d-4b24-a4e6-b0d682aef8c6",
   "metadata": {},
   "outputs": [
    {
     "name": "stderr",
     "output_type": "stream",
     "text": [
      "File biogeme.toml has been created\n",
      "C:\\Users\\makis\\AppData\\Local\\Temp\\ipykernel_27056\\2976986193.py:3: DeprecationWarning: 'modelName' is deprecated. Please use 'model_name' instead.\n",
      "  the_biogeme.modelName = 'mode_MNL_scaled'\n"
     ]
    },
    {
     "data": {
      "text/plain": [
       "-2435276.28249398"
      ]
     },
     "execution_count": 22,
     "metadata": {},
     "output_type": "execute_result"
    }
   ],
   "source": [
    "logprob = models.loglogit(V , av , mode)\n",
    "the_biogeme = bio.BIOGEME(database, logprob)  # the_biogemeはBIOGEME型のクラスをもつインスタンス\n",
    "the_biogeme.modelName = 'mode_MNL_scaled'\n",
    "the_biogeme.calculate_null_loglikelihood(av)"
   ]
  },
  {
   "cell_type": "code",
   "execution_count": 23,
   "id": "d9b9f48b-4546-48c3-b769-3b3f6f4c871b",
   "metadata": {},
   "outputs": [],
   "source": [
    "MNL_results = the_biogeme.estimate()  # BIOGEME型のクラスのthe_biogemeインスタンスが有するestimateメソッドを呼び出している"
   ]
  },
  {
   "cell_type": "markdown",
   "id": "ed66c765-fbe9-4a33-b5de-4ffc2c8ac456",
   "metadata": {},
   "source": [
    "## 推定結果の出力"
   ]
  },
  {
   "cell_type": "code",
   "execution_count": 25,
   "id": "e862e994-95e4-44b5-9119-a54699a96249",
   "metadata": {},
   "outputs": [
    {
     "name": "stdout",
     "output_type": "stream",
     "text": [
      "Results for model mode_MNL_scaled\n",
      "Nbr of parameters:\t\t4\n",
      "Sample size:\t\t\t2216684\n",
      "Excluded data:\t\t\t0\n",
      "Null log likelihood:\t\t-2435276\n",
      "Final log likelihood:\t\t-1111394\n",
      "Likelihood ratio test (null):\t\t2647765\n",
      "Rho square (null):\t\t\t0.544\n",
      "Rho bar square (null):\t\t\t0.544\n",
      "Akaike Information Criterion:\t2222795\n",
      "Bayesian Information Criterion:\t2222846\n",
      "\n"
     ]
    }
   ],
   "source": [
    "print(MNL_results.short_summary())"
   ]
  },
  {
   "cell_type": "markdown",
   "id": "bb9ae223-d522-43d6-9beb-266a9a956968",
   "metadata": {},
   "source": [
    "### 結果取得用のライブラリをインポート"
   ]
  },
  {
   "cell_type": "code",
   "execution_count": null,
   "id": "e95fe8ca-2246-4fb8-bb1d-4c65e0fe36fd",
   "metadata": {},
   "outputs": [],
   "source": [
    "from biogeme.results_processing.estimation_results import EstimationResults\n",
    "from biogeme.results_processing.variance_covariance import EstimateVarianceCovariance"
   ]
  },
  {
   "cell_type": "markdown",
   "id": "dae349e7-01c1-42e3-b9e8-95401e09a8bb",
   "metadata": {},
   "source": [
    "### 推定結果を使いやすいクラスに渡す"
   ]
  },
  {
   "cell_type": "code",
   "execution_count": null,
   "id": "17c18f8d-e88c-43d0-9a70-97bcb32b012f",
   "metadata": {},
   "outputs": [],
   "source": [
    "# MNL_results が RawEstimationResults の場合に EstimationResults でラップ\n",
    "res = MNL_results if isinstance(MNL_results, EstimationResults) else EstimationResults(MNL_results)\n"
   ]
  },
  {
   "cell_type": "markdown",
   "id": "2f976591-76e1-42a4-928a-1c11e60a124e",
   "metadata": {},
   "source": [
    "### 推定されたパラメータを取得"
   ]
  },
  {
   "cell_type": "code",
   "execution_count": 83,
   "id": "2990cdd8-79c0-4be1-a851-07336f656c06",
   "metadata": {},
   "outputs": [],
   "source": [
    "# 推定値（β）\n",
    "betas: dict[str, float] = res.get_beta_values()"
   ]
  },
  {
   "cell_type": "markdown",
   "id": "0d7e6266-d0cf-4a19-8d53-4aea0732f6f0",
   "metadata": {},
   "source": [
    "### 推定されたパラメータの分散共分散行列を取得"
   ]
  },
  {
   "cell_type": "code",
   "execution_count": 86,
   "id": "72e30bf9-1d59-428c-95a4-8ec3d746cd34",
   "metadata": {},
   "outputs": [],
   "source": [
    "# 通常（Rao–Cramer）の分散共分散行列を取得\n",
    "vc = res.get_variance_covariance_matrix(\n",
    "    variance_covariance_type=EstimateVarianceCovariance.RAO_CRAMER # ROBUSTを指定すると，ロバスト値を得る\n",
    ")\n"
   ]
  },
  {
   "cell_type": "markdown",
   "id": "9df4872e-d872-4563-bc05-b8eb8a67d544",
   "metadata": {},
   "source": [
    "### 統計指標の計算と出力"
   ]
  },
  {
   "cell_type": "code",
   "execution_count": 89,
   "id": "6b37be54-09b2-4dae-aabe-a0557e32c3c2",
   "metadata": {},
   "outputs": [
    {
     "data": {
      "text/html": [
       "<div>\n",
       "<style scoped>\n",
       "    .dataframe tbody tr th:only-of-type {\n",
       "        vertical-align: middle;\n",
       "    }\n",
       "\n",
       "    .dataframe tbody tr th {\n",
       "        vertical-align: top;\n",
       "    }\n",
       "\n",
       "    .dataframe thead th {\n",
       "        text-align: right;\n",
       "    }\n",
       "</style>\n",
       "<table border=\"1\" class=\"dataframe\">\n",
       "  <thead>\n",
       "    <tr style=\"text-align: right;\">\n",
       "      <th></th>\n",
       "      <th>Value</th>\n",
       "      <th>Std err. (non-robust)</th>\n",
       "      <th>t-test (non-robust)</th>\n",
       "      <th>p-value (non-robust)</th>\n",
       "    </tr>\n",
       "  </thead>\n",
       "  <tbody>\n",
       "    <tr>\n",
       "      <th>ASC_car</th>\n",
       "      <td>2.465207</td>\n",
       "      <td>0.005218</td>\n",
       "      <td>472.440131</td>\n",
       "      <td>0.0</td>\n",
       "    </tr>\n",
       "    <tr>\n",
       "      <th>B_time</th>\n",
       "      <td>-0.155094</td>\n",
       "      <td>0.000248</td>\n",
       "      <td>-625.896909</td>\n",
       "      <td>0.0</td>\n",
       "    </tr>\n",
       "    <tr>\n",
       "      <th>B_cost</th>\n",
       "      <td>-0.014733</td>\n",
       "      <td>0.000120</td>\n",
       "      <td>-122.731146</td>\n",
       "      <td>0.0</td>\n",
       "    </tr>\n",
       "    <tr>\n",
       "      <th>ASC_rail</th>\n",
       "      <td>0.665536</td>\n",
       "      <td>0.006766</td>\n",
       "      <td>98.370786</td>\n",
       "      <td>0.0</td>\n",
       "    </tr>\n",
       "  </tbody>\n",
       "</table>\n",
       "</div>"
      ],
      "text/plain": [
       "             Value  Std err. (non-robust)  t-test (non-robust)  \\\n",
       "ASC_car   2.465207               0.005218           472.440131   \n",
       "B_time   -0.155094               0.000248          -625.896909   \n",
       "B_cost   -0.014733               0.000120          -122.731146   \n",
       "ASC_rail  0.665536               0.006766            98.370786   \n",
       "\n",
       "          p-value (non-robust)  \n",
       "ASC_car                    0.0  \n",
       "B_time                     0.0  \n",
       "B_cost                     0.0  \n",
       "ASC_rail                   0.0  "
      ]
     },
     "metadata": {},
     "output_type": "display_data"
    }
   ],
   "source": [
    "# 標準誤差と t 値を計算\n",
    "names = list(betas.keys())  # dict型の変数betasに対して，keysメソッドを実行\n",
    "values = np.array([betas[n] for n in names], dtype=float)\n",
    "se = np.sqrt(np.diag(np.asarray(vc, dtype=float)))\n",
    "t_vals = values / se\n",
    "\n",
    "# p 値（正規近似）\n",
    "from math import erf, sqrt\n",
    "def p_from_t(t):\n",
    "    Phi = 0.5 * (1.0 + erf(abs(t) / sqrt(2.0)))  # 一部erfを用いて標準正規分布の累積分布関数を設定\n",
    "    return 2.0 * (1.0 - Phi)  # 両側検定\n",
    "\n",
    "p_vals = [p_from_t(t) for t in t_vals]\n",
    "\n",
    "# 表として出力\n",
    "df_nonrobust = pd.DataFrame(\n",
    "    {\"Value\": values,\n",
    "     \"Std err. (non-robust)\": se,\n",
    "     \"t-test (non-robust)\": t_vals,\n",
    "     \"p-value (non-robust)\": p_vals},\n",
    "    index=names\n",
    ")\n",
    "display(df_nonrobust)\n"
   ]
  },
  {
   "cell_type": "markdown",
   "id": "c24463eb-d24f-4e89-acc2-84b1d3aace91",
   "metadata": {},
   "source": [
    "## 考察の準備"
   ]
  },
  {
   "cell_type": "code",
   "execution_count": 128,
   "id": "220dd549-b082-450b-b54f-77b137c04561",
   "metadata": {},
   "outputs": [
    {
     "name": "stdout",
     "output_type": "stream",
     "text": [
      "{'ASC_car': 2.46520686356558, 'B_time': -0.15509366774385386, 'B_cost': -0.01473261969528295, 'ASC_rail': 0.6655360065406377}\n"
     ]
    }
   ],
   "source": [
    "print(betas)"
   ]
  },
  {
   "cell_type": "markdown",
   "id": "a512430a-4450-4142-bf8b-66eb81bca273",
   "metadata": {},
   "source": [
    "### 推定されたパラメータを取得して変数に代入"
   ]
  },
  {
   "cell_type": "code",
   "execution_count": 131,
   "id": "96f4521e-cc2a-4858-8d91-52844760fdf4",
   "metadata": {},
   "outputs": [],
   "source": [
    "res_ASC_car = betas['ASC_car']\n",
    "res_ASC_rail = betas['ASC_rail']\n",
    "res_B_time = betas['B_time']\n",
    "res_B_cost = betas['B_cost']"
   ]
  },
  {
   "cell_type": "markdown",
   "id": "b0e77890-381d-4fdd-a987-f3854639c555",
   "metadata": {},
   "source": [
    "### 推定されたパラメータで予測値と的中率を計算"
   ]
  },
  {
   "cell_type": "code",
   "execution_count": 134,
   "id": "40cdfd67-93cd-4a4e-8989-cdea6fe6e1b8",
   "metadata": {},
   "outputs": [],
   "source": [
    "df['pred_V_car'] = res_ASC_car + res_B_time * df['car_time'] / 10 + res_B_cost * df['car_cost'] / 100\n",
    "df['pred_V_rail'] = res_ASC_rail + res_B_time * df['rail_time'] / 10 + res_B_cost * df['rail_cost'] / 100\n",
    "df['pred_V_bus'] = res_B_time * df['bus_time'] / 10 + res_B_cost * df['bus_cost'] / 100"
   ]
  },
  {
   "cell_type": "code",
   "execution_count": 168,
   "id": "3aae9beb-a1f3-45ef-b823-0a5b0e7a0544",
   "metadata": {},
   "outputs": [],
   "source": [
    "den = np.exp(df['pred_V_car']) + np.exp(df['pred_V_rail']) + np.exp(df['pred_V_bus'])\n",
    "df['pred_P_car'] = np.exp(df['pred_V_car']) / den\n",
    "df['pred_P_rail'] = np.exp(df['pred_V_rail']) / den\n",
    "df['pred_P_bus'] = np.exp(df['pred_V_bus']) / den"
   ]
  },
  {
   "cell_type": "code",
   "execution_count": 170,
   "id": "1af3ba95-2831-4a59-a61f-79b017890032",
   "metadata": {},
   "outputs": [],
   "source": [
    "cols = ['pred_P_car', 'pred_P_rail', 'pred_P_bus']\n",
    "code_map = {'pred_P_car': 5, 'pred_P_rail': 2, 'pred_P_bus': 4}\n",
    "\n",
    "df['pred_mode'] = df[cols].idxmax(axis=1).map(code_map).astype('Int64')"
   ]
  },
  {
   "cell_type": "code",
   "execution_count": 171,
   "id": "eb02b29e-886b-4493-90f6-7786efffb207",
   "metadata": {},
   "outputs": [],
   "source": [
    "df['judge'] = np.where(df['pred_mode'].astype('Int64').eq(df['mode_code'].astype('Int64')),\n",
    "                       'correct', 'wrong')"
   ]
  },
  {
   "cell_type": "code",
   "execution_count": 174,
   "id": "94c7c5a7-efcf-4759-8ae3-1d9105037fac",
   "metadata": {},
   "outputs": [
    {
     "name": "stdout",
     "output_type": "stream",
     "text": [
      "True\n",
      "的中率: 82.66884228875203%\n"
     ]
    }
   ],
   "source": [
    "print( ((df[\"judge\"] == \"correct\").sum() + (df[\"judge\"] == \"wrong\").sum()) == len(df))\n",
    "acc = (df[\"judge\"] == \"correct\").sum() / ((df[\"judge\"] == \"correct\").sum() + (df[\"judge\"] == \"wrong\").sum()) * 100\n",
    "print(f\"的中率: {acc}%\")"
   ]
  },
  {
   "cell_type": "code",
   "execution_count": null,
   "id": "ff51d73c-f056-4fcd-88a0-0253299339a8",
   "metadata": {},
   "outputs": [],
   "source": []
  }
 ],
 "metadata": {
  "kernelspec": {
   "display_name": "Python (model_estimation)",
   "language": "python",
   "name": "model_estimation"
  },
  "language_info": {
   "codemirror_mode": {
    "name": "ipython",
    "version": 3
   },
   "file_extension": ".py",
   "mimetype": "text/x-python",
   "name": "python",
   "nbconvert_exporter": "python",
   "pygments_lexer": "ipython3",
   "version": "3.12.11"
  }
 },
 "nbformat": 4,
 "nbformat_minor": 5
}
